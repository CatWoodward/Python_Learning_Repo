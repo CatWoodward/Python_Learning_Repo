{
 "cells": [
  {
   "cell_type": "code",
   "execution_count": null,
   "metadata": {},
   "outputs": [],
   "source": [
    "x = 1\n",
    "pring(x)"
   ]
  },
  {
   "cell_type": "code",
   "execution_count": null,
   "metadata": {},
   "outputs": [],
   "source": [
    "x +=1\n",
    "print(x)"
   ]
  },
  {
   "cell_type": "code",
   "execution_count": null,
   "metadata": {},
   "outputs": [],
   "source": [
    "phrase = \"my name is cat\"\n",
    "print(phrase)"
   ]
  },
  {
   "cell_type": "code",
   "execution_count": null,
   "metadata": {},
   "outputs": [],
   "source": [
    "#square brackets to create a list\n",
    "colours = [\"red\", \"blue\", \"green\"]"
   ]
  },
  {
   "cell_type": "code",
   "execution_count": null,
   "metadata": {},
   "outputs": [],
   "source": [
    "colour = \"teal\"\n",
    "colours = [\"red\", \"blue\", \"green\", colour]\n",
    "print(colours)\n",
    "#this adds teal to the list\n",
    "\n",
    "colours.append('purple')\n",
    "#this adds purple to the list - whatever is in the parenthesis gets put on the end of the list\n",
    "#function has a process \n",
    "# .append is a method  object dot function name\n",
    "\n",
    "extra_colours = ['turquoise', \"teal\"] #single and double quotes work\n",
    "colours.append(extra_colours)\n",
    "print colours \n",
    "#this puts turq and teal as 1 item\n",
    "\n",
    "colours.extend(extra_colours) #this will add them seperately.\n",
    "print(colours)\n",
    "\n",
    "colours.remove('teal')\n",
    "#this removes teal but only the first one.  if no teal in list it will give a value error"
   ]
  },
  {
   "cell_type": "code",
   "execution_count": null,
   "metadata": {},
   "outputs": [],
   "source": [
    "food = [\"chicken\", \"rice\", \"broccoli\", \"avocado\"]\n",
    "print(food)\n",
    "\n",
    "food.append(\"tomatoes\")\n",
    "\n",
    "extra_food = [\"onions\", \"sauce\"]\n",
    "\n",
    "food.extend(extra_food)\n",
    "\n",
    "food.extend(\"wrap\", \"cucumber\") #this also works to make it quicker\n",
    "\n",
    "food.remove(\"broccoli\")"
   ]
  },
  {
   "cell_type": "code",
   "execution_count": null,
   "metadata": {},
   "outputs": [],
   "source": [
    "number_list =[1, 3, 5, 4, 2]\n",
    "\n",
    "number_list.sort() #may not work because it doesnt know the type\n",
    "\n",
    "number_list.sort(reverse=True) #automatilcally assigns false if you don't add true\n",
    "\n",
    "# .sort is a method sorted is a function\n",
    "\n",
    "sorted_list = sorted(number_list)\n",
    "print(sorted_list)\n",
    "\n",
    "#.sort resorts the list, sorted doesn't alter the list which you would use if you need to keep the original list order but should never really matter\n",
    "\n",
    "food.sort()\n",
    "print(food)\n",
    "#this will order alphabetically  you can also do the reverse \n",
    "\n",
    "sorted_foods = sorted(food)\n",
    "print (sorted_foods)\n",
    "\n"
   ]
  },
  {
   "cell_type": "code",
   "execution_count": null,
   "metadata": {},
   "outputs": [],
   "source": [
    "foods_list = [\"chicken\", \"rice\", \"broccoli\", \"avocado\"]\n",
    "sorted_food = sorted(foods_list)\n",
    "\n",
    "foods_list.sort()\n",
    "print(sorted_food)\n",
    "print (foods_list)\n",
    "\n",
    "foods_list.sort(reverse=True)\n",
    "print (foods_list)\n",
    "\n"
   ]
  },
  {
   "cell_type": "code",
   "execution_count": null,
   "metadata": {},
   "outputs": [],
   "source": [
    "# dictionaries allows us to store variables inside of 1 variable in key value pairs \n",
    "#keeps data nice and tidy. when they are all within a dictonary it makes it easy to access them all from 1 place\n",
    "#dictionaries use curly brackets\n",
    "#key coudl be annex a list, value is something in that list \n",
    "#key:value  they key can't change\n",
    "favourite_colours ={\"will\":\"purple\",  \n",
    "                    \"Andy\":[\"teal\", \"red\"], #andy has 2 faviourite colours\n",
    "                    \"Naiomi\":{\"monday\":\"blue\", #here we have nested a dictionary within a dictionary \n",
    "                              \"sunday\":\"orange\",\n",
    "                              \"other days\":\"white\"}\n",
    "                    }\n",
    "\n"
   ]
  },
  {
   "cell_type": "code",
   "execution_count": null,
   "metadata": {},
   "outputs": [],
   "source": [
    "restaurants = {\"Spice Lounge\":\"Curry\", #curly brackets because dictionary\n",
    "               \"Pastures\":[\"Steak\", \"Fish\"], #square brackets because list\n",
    "               \"The Kitchen\":{\"Monday\":\"beef\", \"Tuesday\":\"chicken\", \"wednesday\":\"BBQ\", \"other Days\":\"closed\"} #dictionary within dictionary\n",
    "               } #the restaruant names are what won't change, the foods can change\n",
    "#you could also add a function so if pastures sold all the foods in my food list above, i could add food_list and it would return all the foods in that list\n",
    "\n",
    "\n",
    "#to get a list of restaurants\n",
    "\n",
    "restaurant_list = list(restaurants)\n",
    "print restaurant_list # this returns the keys only so a list of restaurants\n",
    "\n",
    "print(restaurants.items())\n",
    "print(restaurants.keys())\n",
    "print(restaurants.values())"
   ]
  },
  {
   "cell_type": "code",
   "execution_count": null,
   "metadata": {},
   "outputs": [],
   "source": [
    "favourite_colours ={\"will\":\"purple\",  \n",
    "                    \"Andy\":[\"teal\", \"red\"], #andy has 2 faviourite colours\n",
    "                    \"Naiomi\":{\"monday\":\"blue\", #here we have nested a dictionary within a dictionary \n",
    "                              \"sunday\":\"orange\",\n",
    "                              \"other days\":\"white\"}\n",
    "                    }\n",
    "\n",
    "wills_colours = favourite_colours[\"will\"] #this just returns wills favourite colours\n",
    "print(wills_colours)\n",
    "\n",
    "#you can add another to the list ....\n",
    "\n",
    "favourite_colours['Annie'] = ['Gold']\n",
    "print(favourite_colours) ##returns the list with annie now added with her colour\n",
    "\n",
    "favourite_colours[\"will\"] = \"black\" #will overwrite will's colour purple with black\n",
    "\n",
    "print(\"mo\" in favourite_colours) #will return false because mo isn't in the list"
   ]
  },
  {
   "cell_type": "code",
   "execution_count": null,
   "metadata": {},
   "outputs": [],
   "source": [
    "restaurants = {\"Spice Lounge\":\"Curry\", #curly brackets because dictionary\n",
    "               \"Pastures\":[\"Steak\", \"Fish\"], #square brackets because list\n",
    "               \"The Kitchen\":{\"Monday\":\"beef\", \"Tuesday\":\"chicken\", \"wednesday\":\"BBQ\", \"other Days\":\"closed\"} #dictionary within dictionary\n",
    "               } \n",
    "\n",
    "food_served = restaurants[\"Spice Lounge\"]\n",
    "print(food_served)\n",
    "\n",
    "restaurants[\"Dynasty\"] = \"Chinese\"\n",
    "print(restaurants)\n",
    "\n",
    "print(\"mcdonalds\" in restaurants)"
   ]
  }
 ],
 "metadata": {
  "language_info": {
   "name": "python"
  }
 },
 "nbformat": 4,
 "nbformat_minor": 2
}
