{
 "cells": [
  {
   "cell_type": "code",
   "execution_count": null,
   "metadata": {},
   "outputs": [],
   "source": [
    "x = 1\n",
    "pring(x)"
   ]
  },
  {
   "cell_type": "code",
   "execution_count": null,
   "metadata": {},
   "outputs": [],
   "source": [
    "x +=1\n",
    "print(x)"
   ]
  },
  {
   "cell_type": "code",
   "execution_count": null,
   "metadata": {},
   "outputs": [],
   "source": [
    "phrase = \"my name is cat\"\n",
    "print(phrase)"
   ]
  },
  {
   "cell_type": "code",
   "execution_count": 2,
   "metadata": {},
   "outputs": [
    {
     "name": "stdout",
     "output_type": "stream",
     "text": [
      "['red', 'blue', 'green']\n"
     ]
    }
   ],
   "source": [
    "#square brackets to create a list\n",
    "colours = [\"red\", \"blue\", \"green\"]\n",
    "print(colours)"
   ]
  },
  {
   "cell_type": "code",
   "execution_count": 7,
   "metadata": {},
   "outputs": [
    {
     "name": "stdout",
     "output_type": "stream",
     "text": [
      "['red', 'blue', 'green', 'teal']\n",
      "['red', 'blue', 'green', 'teal', 'purple', ['turquoise', 'teal']]\n",
      "['red', 'blue', 'green', 'teal', 'purple', ['turquoise', 'teal'], 'turquoise', 'teal']\n"
     ]
    }
   ],
   "source": [
    "colour = \"teal\"\n",
    "colours = [\"red\", \"blue\", \"green\", colour]\n",
    "print(colours)\n",
    "#this adds teal to the list\n",
    "\n",
    "colours.append('purple')\n",
    "#this adds purple to the list - whatever is in the parenthesis gets put on the end of the list\n",
    "#function has a process \n",
    "# .append is a method  object dot function name\n",
    "\n",
    "extra_colours = ['turquoise', \"teal\"] #single and double quotes work\n",
    "colours.append(extra_colours)\n",
    "print(colours) \n",
    "#this puts turq and teal as 1 item\n",
    "\n",
    "colours.extend(extra_colours) #this will add them seperately.\n",
    "print(colours)\n",
    "\n",
    "colours.remove('teal')\n",
    "#this removes teal but only the first one.  if no teal in list it will give a value error"
   ]
  },
  {
   "cell_type": "code",
   "execution_count": 16,
   "metadata": {},
   "outputs": [
    {
     "name": "stdout",
     "output_type": "stream",
     "text": [
      "['chicken', 'rice', 'broccoli', 'avocado']\n",
      "['chicken', 'rice', 'broccoli', 'avocado', 'tomatoes']\n",
      "['onions', 'sauce']\n",
      "['chicken', 'rice', 'broccoli', 'avocado', 'tomatoes', 'onions', 'sauce']\n",
      "['chicken', 'rice', 'avocado', 'tomatoes', 'onions', 'sauce']\n"
     ]
    }
   ],
   "source": [
    "food = [\"chicken\", \"rice\", \"broccoli\", \"avocado\"]\n",
    "print(food)\n",
    "\n",
    "food.append(\"tomatoes\")\n",
    "print(food)\n",
    "\n",
    "extra_food = [\"onions\", \"sauce\"]\n",
    "print(extra_food)\n",
    "\n",
    "food.extend(extra_food)\n",
    "print(food)\n",
    "\n",
    "#food.extend(\"wrap\") #this also works to make it quicker\n",
    "#print(food)\n",
    "\n",
    "food.remove(\"broccoli\")\n",
    "print(food)"
   ]
  },
  {
   "cell_type": "code",
   "execution_count": 22,
   "metadata": {},
   "outputs": [
    {
     "name": "stdout",
     "output_type": "stream",
     "text": [
      "[5, 4, 3, 2, 1]\n",
      "[1, 2, 3, 4, 5]\n",
      "['avocado', 'chicken', 'onions', 'rice', 'sauce', 'tomatoes']\n",
      "['avocado', 'chicken', 'onions', 'rice', 'sauce', 'tomatoes']\n"
     ]
    }
   ],
   "source": [
    "number_list =[1, 3, 5, 4, 2]\n",
    "\n",
    "\n",
    "number_list.sort() #may not work because it doesnt know the type\n",
    "\n",
    "number_list.sort(reverse=True) #automatilcally assigns false if you don't add true\n",
    "print(number_list)\n",
    "# .sort is a method sorted is a function\n",
    "\n",
    "sorted_list = sorted(number_list)\n",
    "print(sorted_list)\n",
    "\n",
    "#.sort resorts the list, sorted doesn't alter the list which you would use if you need to keep the original list order but should never really matter\n",
    "\n",
    "food.sort()\n",
    "print(food)\n",
    "#this will order alphabetically  you can also do the reverse \n",
    "\n",
    "sorted_foods = sorted(food)\n",
    "print (sorted_foods)\n",
    "\n"
   ]
  },
  {
   "cell_type": "code",
   "execution_count": 26,
   "metadata": {},
   "outputs": [
    {
     "name": "stdout",
     "output_type": "stream",
     "text": [
      "['chicken', 'rice', 'broccoli', 'avocado']\n",
      "['avocado', 'broccoli', 'chicken', 'rice']\n",
      "['avocado', 'broccoli', 'chicken', 'rice']\n",
      "['rice', 'chicken', 'broccoli', 'avocado']\n"
     ]
    }
   ],
   "source": [
    "foods_list = [\"chicken\", \"rice\", \"broccoli\", \"avocado\"]\n",
    "print (foods_list)\n",
    "\n",
    "sorted_food = sorted(foods_list)\n",
    "print(sorted_food)\n",
    "\n",
    "foods_list.sort()\n",
    "print(sorted_food)\n",
    "\n",
    "\n",
    "foods_list.sort(reverse=True)\n",
    "print (foods_list)\n"
   ]
  },
  {
   "cell_type": "code",
   "execution_count": 27,
   "metadata": {},
   "outputs": [
    {
     "name": "stdout",
     "output_type": "stream",
     "text": [
      "{'will': 'purple', 'Andy': ['teal', 'red'], 'Naiomi': {'monday': 'blue', 'sunday': 'orange', 'other days': 'white'}}\n"
     ]
    }
   ],
   "source": [
    "# dictionaries allows us to store variables inside of 1 variable in key value pairs \n",
    "#keeps data nice and tidy. when they are all within a dictonary it makes it easy to access them all from 1 place\n",
    "#dictionaries use curly brackets\n",
    "#key coudl be annex a list, value is something in that list \n",
    "#key:value  they key can't change\n",
    "favourite_colours ={\"will\":\"purple\",  \n",
    "                    \"Andy\":[\"teal\", \"red\"], #andy has 2 faviourite colours\n",
    "                    \"Naiomi\":{\"monday\":\"blue\", #here we have nested a dictionary within a dictionary \n",
    "                              \"sunday\":\"orange\",\n",
    "                              \"other days\":\"white\"}\n",
    "                    }\n",
    "\n",
    "print(favourite_colours)"
   ]
  },
  {
   "cell_type": "code",
   "execution_count": 30,
   "metadata": {},
   "outputs": [
    {
     "name": "stdout",
     "output_type": "stream",
     "text": [
      "['Spice Lounge', 'Pastures', 'The Kitchen']\n",
      "dict_items([('Spice Lounge', 'Curry'), ('Pastures', ['Steak', 'Fish']), ('The Kitchen', {'Monday': 'beef', 'Tuesday': 'chicken', 'wednesday': 'BBQ', 'other Days': 'closed'})])\n",
      "dict_keys(['Spice Lounge', 'Pastures', 'The Kitchen'])\n",
      "dict_values(['Curry', ['Steak', 'Fish'], {'Monday': 'beef', 'Tuesday': 'chicken', 'wednesday': 'BBQ', 'other Days': 'closed'}])\n"
     ]
    }
   ],
   "source": [
    "restaurants = {\"Spice Lounge\":\"Curry\", #curly brackets because dictionary\n",
    "               \"Pastures\":[\"Steak\", \"Fish\"], #square brackets because list\n",
    "               \"The Kitchen\":{\"Monday\":\"beef\", \"Tuesday\":\"chicken\", \"wednesday\":\"BBQ\", \"other Days\":\"closed\"} #dictionary within dictionary\n",
    "               } #the restaruant names are what won't change, the foods can change\n",
    "#you could also add a function so if pastures sold all the foods in my food list above, i could add food_list and it would return all the foods in that list\n",
    "\n",
    "\n",
    "#to get a list of restaurants\n",
    "\n",
    "restaurant_list = list(restaurants)\n",
    "print(restaurant_list) # this returns the keys only so a list of restaurants\n",
    "\n",
    "print(restaurants.items())\n",
    "print(restaurants.keys())\n",
    "print(restaurants.values())"
   ]
  },
  {
   "cell_type": "code",
   "execution_count": 2,
   "metadata": {},
   "outputs": [
    {
     "name": "stdout",
     "output_type": "stream",
     "text": [
      "purple\n",
      "{'will': 'purple', 'Andy': ['teal', 'red'], 'Naiomi': {'monday': 'blue', 'sunday': 'orange', 'other days': 'white'}, 'Annie': ['Gold']}\n",
      "False\n"
     ]
    }
   ],
   "source": [
    "favourite_colours ={\"will\":\"purple\",  \n",
    "                    \"Andy\":[\"teal\", \"red\"], #andy has 2 faviourite colours\n",
    "                    \"Naiomi\":{\"monday\":\"blue\", #here we have nested a dictionary within a dictionary \n",
    "                              \"sunday\":\"orange\",\n",
    "                              \"other days\":\"white\"}\n",
    "                    }\n",
    "\n",
    "wills_colours = favourite_colours[\"will\"] #this just returns wills favourite colours\n",
    "print(wills_colours)\n",
    "\n",
    "#you can add another to the list ....\n",
    "\n",
    "favourite_colours['Annie'] = ['Gold']\n",
    "print(favourite_colours) ##returns the list with annie now added with her colour\n",
    "\n",
    "favourite_colours[\"will\"] = \"black\" #will overwrite will's colour purple with black\n",
    "\n",
    "print(\"mo\" in favourite_colours) #will return false because mo isn't in the list"
   ]
  },
  {
   "cell_type": "code",
   "execution_count": 1,
   "metadata": {},
   "outputs": [
    {
     "name": "stdout",
     "output_type": "stream",
     "text": [
      "Curry\n",
      "{'Spice Lounge': 'Curry', 'Pastures': ['Steak', 'Fish'], 'The Kitchen': {'Monday': 'beef', 'Tuesday': 'chicken', 'wednesday': 'BBQ', 'other Days': 'closed'}, 'Dynasty': 'Chinese'}\n",
      "False\n"
     ]
    }
   ],
   "source": [
    "restaurants = {\"Spice Lounge\":\"Curry\", #curly brackets because dictionary\n",
    "               \"Pastures\":[\"Steak\", \"Fish\"], #square brackets because list\n",
    "               \"The Kitchen\":{\"Monday\":\"beef\", \"Tuesday\":\"chicken\", \"wednesday\":\"BBQ\", \"other Days\":\"closed\"} #dictionary within dictionary\n",
    "               } \n",
    "\n",
    "food_served = restaurants[\"Spice Lounge\"]\n",
    "print(food_served)\n",
    "\n",
    "restaurants[\"Dynasty\"] = \"Chinese\"\n",
    "print(restaurants)\n",
    "\n",
    "print(\"mcdonalds\" in restaurants)"
   ]
  }
 ],
 "metadata": {
  "kernelspec": {
   "display_name": "Python 3",
   "language": "python",
   "name": "python3"
  },
  "language_info": {
   "codemirror_mode": {
    "name": "ipython",
    "version": 3
   },
   "file_extension": ".py",
   "mimetype": "text/x-python",
   "name": "python",
   "nbconvert_exporter": "python",
   "pygments_lexer": "ipython3",
   "version": "3.10.13"
  }
 },
 "nbformat": 4,
 "nbformat_minor": 2
}
