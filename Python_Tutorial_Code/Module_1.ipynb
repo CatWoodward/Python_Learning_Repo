{
 "cells": [
  {
   "cell_type": "code",
   "execution_count": 5,
   "metadata": {},
   "outputs": [
    {
     "name": "stdout",
     "output_type": "stream",
     "text": [
      "2\n"
     ]
    }
   ],
   "source": [
    "x = 1\n",
    "y = 2\n",
    "z = x * y\n",
    "\n",
    "print (z)"
   ]
  },
  {
   "cell_type": "code",
   "execution_count": 7,
   "metadata": {},
   "outputs": [
    {
     "name": "stdout",
     "output_type": "stream",
     "text": [
      "12.56\n"
     ]
    }
   ],
   "source": [
    "rad = 2\n",
    "pi = 3.14\n",
    "\n",
    "area = pi * (rad** 2)\n",
    "\n",
    "print (area)"
   ]
  },
  {
   "cell_type": "code",
   "execution_count": 15,
   "metadata": {},
   "outputs": [
    {
     "name": "stdout",
     "output_type": "stream",
     "text": [
      "CatTransponsting\n",
      "my name is: Cat, and my job is Transponsting. \n"
     ]
    }
   ],
   "source": [
    "name = \"Cat\" \n",
    "job = \"Transponsting\"\n",
    "\n",
    "concat = name + job\n",
    "\n",
    "print (concat)\n",
    "\n",
    "concat_2 = f\"my name is: {name}, and my job is {job}. \"\n",
    "print (concat_2)\n"
   ]
  },
  {
   "cell_type": "code",
   "execution_count": 23,
   "metadata": {},
   "outputs": [
    {
     "name": "stdout",
     "output_type": "stream",
     "text": [
      "2\n",
      "7\n",
      "456\n",
      "13579\n",
      "987654321\n"
     ]
    }
   ],
   "source": [
    "#indexing always starts with 0 unless from the right\n",
    "#use positve number for lhs and negative from right\n",
    "\n",
    "num_string = \"123456789\"\n",
    "\n",
    "sub_string = num_string[1]\n",
    "\n",
    "print (sub_string)\n",
    "\n",
    "sub_string_rhs = num_string[-3]\n",
    "\n",
    "print (sub_string_rhs)\n",
    "\n",
    "#start is inclusive, stop is exclusive\n",
    "sub_range = num_string [3:-3]\n",
    "\n",
    "print(sub_range)\n",
    "\n",
    "#step\n",
    "step_range = num_string[::2]\n",
    "print(step_range)\n",
    "\n",
    "reverse = num_string[-1::-1]\n",
    "print(reverse)"
   ]
  },
  {
   "cell_type": "code",
   "execution_count": 31,
   "metadata": {},
   "outputs": [
    {
     "name": "stdout",
     "output_type": "stream",
     "text": [
      "dog\n",
      "cat\n",
      "racoon\n"
     ]
    }
   ],
   "source": [
    "slice_phrase = \"dog cat racoon\"\n",
    "\n",
    "cut = slice_phrase[:3]\n",
    "\n",
    "print(cut)\n",
    "\n",
    "cut_cat = slice_phrase[4:7]\n",
    "\n",
    "print (cut_cat)\n",
    "\n",
    "cut_rac = slice_phrase[-6:]\n",
    "\n",
    "print (cut_rac)"
   ]
  },
  {
   "cell_type": "code",
   "execution_count": null,
   "metadata": {},
   "outputs": [],
   "source": [
    "x = 1\n",
    "print(x)"
   ]
  }
 ],
 "metadata": {
  "kernelspec": {
   "display_name": "Python 3 (ipykernel)",
   "language": "python",
   "name": "python3"
  },
  "language_info": {
   "codemirror_mode": {
    "name": "ipython",
    "version": 3
   },
   "file_extension": ".py",
   "mimetype": "text/x-python",
   "name": "python",
   "nbconvert_exporter": "python",
   "pygments_lexer": "ipython3",
   "version": "3.10.13"
  }
 },
 "nbformat": 4,
 "nbformat_minor": 2
}
